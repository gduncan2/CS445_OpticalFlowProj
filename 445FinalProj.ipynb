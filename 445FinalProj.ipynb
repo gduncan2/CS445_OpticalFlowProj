{
  "cells": [
    {
      "cell_type": "markdown",
      "metadata": {
        "colab_type": "text",
        "id": "view-in-github"
      },
      "source": [
        "<a href=\"https://colab.research.google.com/github/gduncan2/CS445_OpticalFlowProj/blob/main/445FinalProj.ipynb\" target=\"_parent\"><img src=\"https://colab.research.google.com/assets/colab-badge.svg\" alt=\"Open In Colab\"/></a>"
      ]
    },
    {
      "cell_type": "code",
      "execution_count": 1,
      "metadata": {
        "id": "aPaBHcBau-ki"
      },
      "outputs": [
        {
          "name": "stdout",
          "output_type": "stream",
          "text": [
            "Requirement already satisfied: opencv-python in c:\\users\\shart\\workspace\\cs445_opticalflowproj\\.venv\\lib\\site-packages (4.11.0.86)\n",
            "Requirement already satisfied: numpy>=1.21.2 in c:\\users\\shart\\workspace\\cs445_opticalflowproj\\.venv\\lib\\site-packages (from opencv-python) (2.2.4)\n",
            "Note: you may need to restart the kernel to use updated packages.\n"
          ]
        },
        {
          "name": "stderr",
          "output_type": "stream",
          "text": [
            "\n",
            "[notice] A new release of pip is available: 25.0.1 -> 25.1.1\n",
            "[notice] To update, run: python.exe -m pip install --upgrade pip\n"
          ]
        },
        {
          "name": "stdout",
          "output_type": "stream",
          "text": [
            "Collecting cupy-cuda12x\n",
            "  Downloading cupy_cuda12x-13.4.1-cp313-cp313-win_amd64.whl.metadata (2.7 kB)\n",
            "Requirement already satisfied: numpy<2.3,>=1.22 in c:\\users\\shart\\workspace\\cs445_opticalflowproj\\.venv\\lib\\site-packages (from cupy-cuda12x) (2.2.4)\n",
            "Collecting fastrlock>=0.5 (from cupy-cuda12x)\n",
            "  Downloading fastrlock-0.8.3-cp313-cp313-win_amd64.whl.metadata (7.9 kB)\n",
            "Downloading cupy_cuda12x-13.4.1-cp313-cp313-win_amd64.whl (82.0 MB)\n",
            "   ---------------------------------------- 0.0/82.0 MB ? eta -:--:--\n",
            "   ---------------------------------------- 0.8/82.0 MB 4.5 MB/s eta 0:00:19\n",
            "    --------------------------------------- 1.8/82.0 MB 4.9 MB/s eta 0:00:17\n",
            "   - -------------------------------------- 3.4/82.0 MB 5.7 MB/s eta 0:00:14\n",
            "   -- ------------------------------------- 5.0/82.0 MB 6.3 MB/s eta 0:00:13\n",
            "   -- ------------------------------------- 5.2/82.0 MB 6.0 MB/s eta 0:00:13\n",
            "   --- ------------------------------------ 6.3/82.0 MB 5.1 MB/s eta 0:00:15\n",
            "   --- ------------------------------------ 8.1/82.0 MB 5.5 MB/s eta 0:00:14\n",
            "   ---- ----------------------------------- 10.0/82.0 MB 6.0 MB/s eta 0:00:13\n",
            "   ------ --------------------------------- 12.3/82.0 MB 6.5 MB/s eta 0:00:11\n",
            "   ------- -------------------------------- 14.7/82.0 MB 7.0 MB/s eta 0:00:10\n",
            "   -------- ------------------------------- 17.0/82.0 MB 7.4 MB/s eta 0:00:09\n",
            "   --------- ------------------------------ 19.7/82.0 MB 7.8 MB/s eta 0:00:08\n",
            "   ---------- ----------------------------- 22.5/82.0 MB 8.3 MB/s eta 0:00:08\n",
            "   ------------ --------------------------- 25.4/82.0 MB 8.6 MB/s eta 0:00:07\n",
            "   ------------- -------------------------- 28.0/82.0 MB 9.0 MB/s eta 0:00:07\n",
            "   --------------- ------------------------ 30.9/82.0 MB 9.2 MB/s eta 0:00:06\n",
            "   ---------------- ----------------------- 34.1/82.0 MB 9.6 MB/s eta 0:00:06\n",
            "   ------------------ --------------------- 37.2/82.0 MB 9.9 MB/s eta 0:00:05\n",
            "   ------------------- -------------------- 40.4/82.0 MB 10.1 MB/s eta 0:00:05\n",
            "   --------------------- ------------------ 43.3/82.0 MB 10.3 MB/s eta 0:00:04\n",
            "   ---------------------- ----------------- 46.9/82.0 MB 10.6 MB/s eta 0:00:04\n",
            "   ------------------------ --------------- 50.3/82.0 MB 10.9 MB/s eta 0:00:03\n",
            "   -------------------------- ------------- 53.5/82.0 MB 11.1 MB/s eta 0:00:03\n",
            "   --------------------------- ------------ 57.4/82.0 MB 11.4 MB/s eta 0:00:03\n",
            "   ----------------------------- ---------- 61.1/82.0 MB 11.6 MB/s eta 0:00:02\n",
            "   ------------------------------- -------- 64.5/82.0 MB 11.8 MB/s eta 0:00:02\n",
            "   --------------------------------- ------ 68.2/82.0 MB 12.0 MB/s eta 0:00:02\n",
            "   ----------------------------------- ---- 71.8/82.0 MB 12.2 MB/s eta 0:00:01\n",
            "   ------------------------------------ --- 75.5/82.0 MB 12.4 MB/s eta 0:00:01\n",
            "   -------------------------------------- - 79.2/82.0 MB 12.5 MB/s eta 0:00:01\n",
            "   ---------------------------------------  81.8/82.0 MB 12.6 MB/s eta 0:00:01\n",
            "   ---------------------------------------- 82.0/82.0 MB 12.5 MB/s eta 0:00:00\n",
            "Downloading fastrlock-0.8.3-cp313-cp313-win_amd64.whl (30 kB)\n",
            "Installing collected packages: fastrlock, cupy-cuda12x\n",
            "Successfully installed cupy-cuda12x-13.4.1 fastrlock-0.8.3\n",
            "Note: you may need to restart the kernel to use updated packages.\n"
          ]
        },
        {
          "name": "stderr",
          "output_type": "stream",
          "text": [
            "\n",
            "[notice] A new release of pip is available: 25.0.1 -> 25.1.1\n",
            "[notice] To update, run: python.exe -m pip install --upgrade pip\n"
          ]
        },
        {
          "name": "stdout",
          "output_type": "stream",
          "text": [
            "Collecting scipy\n",
            "  Downloading scipy-1.15.2-cp313-cp313-win_amd64.whl.metadata (60 kB)\n",
            "Requirement already satisfied: numpy<2.5,>=1.23.5 in c:\\users\\shart\\workspace\\cs445_opticalflowproj\\.venv\\lib\\site-packages (from scipy) (2.2.4)\n",
            "Downloading scipy-1.15.2-cp313-cp313-win_amd64.whl (41.0 MB)\n",
            "   ---------------------------------------- 0.0/41.0 MB ? eta -:--:--\n",
            "   ---------------------------------------- 0.0/41.0 MB ? eta -:--:--\n",
            "   ---------------------------------------- 0.3/41.0 MB ? eta -:--:--\n",
            "    --------------------------------------- 0.8/41.0 MB 1.3 MB/s eta 0:00:32\n",
            "   - -------------------------------------- 1.0/41.0 MB 1.3 MB/s eta 0:00:31\n",
            "   - -------------------------------------- 1.3/41.0 MB 1.3 MB/s eta 0:00:30\n",
            "   - -------------------------------------- 1.6/41.0 MB 1.4 MB/s eta 0:00:29\n",
            "   - -------------------------------------- 1.8/41.0 MB 1.4 MB/s eta 0:00:29\n",
            "   -- ------------------------------------- 2.4/41.0 MB 1.5 MB/s eta 0:00:27\n",
            "   -- ------------------------------------- 2.6/41.0 MB 1.5 MB/s eta 0:00:26\n",
            "   --- ------------------------------------ 3.1/41.0 MB 1.5 MB/s eta 0:00:25\n",
            "   --- ------------------------------------ 3.4/41.0 MB 1.6 MB/s eta 0:00:25\n",
            "   --- ------------------------------------ 3.9/41.0 MB 1.6 MB/s eta 0:00:24\n",
            "   ---- ----------------------------------- 4.2/41.0 MB 1.6 MB/s eta 0:00:23\n",
            "   ---- ----------------------------------- 4.7/41.0 MB 1.7 MB/s eta 0:00:22\n",
            "   ----- ---------------------------------- 5.2/41.0 MB 1.7 MB/s eta 0:00:21\n",
            "   ----- ---------------------------------- 5.8/41.0 MB 1.8 MB/s eta 0:00:21\n",
            "   ------ --------------------------------- 6.3/41.0 MB 1.8 MB/s eta 0:00:20\n",
            "   ------ --------------------------------- 6.8/41.0 MB 1.8 MB/s eta 0:00:19\n",
            "   ------- -------------------------------- 7.3/41.0 MB 1.9 MB/s eta 0:00:18\n",
            "   ------- -------------------------------- 7.9/41.0 MB 1.9 MB/s eta 0:00:18\n",
            "   -------- ------------------------------- 8.4/41.0 MB 2.0 MB/s eta 0:00:17\n",
            "   -------- ------------------------------- 9.2/41.0 MB 2.0 MB/s eta 0:00:16\n",
            "   --------- ------------------------------ 9.7/41.0 MB 2.0 MB/s eta 0:00:16\n",
            "   --------- ------------------------------ 10.2/41.0 MB 2.1 MB/s eta 0:00:15\n",
            "   ---------- ----------------------------- 10.5/41.0 MB 2.1 MB/s eta 0:00:15\n",
            "   ---------- ----------------------------- 10.7/41.0 MB 2.0 MB/s eta 0:00:15\n",
            "   ----------- ---------------------------- 11.3/41.0 MB 2.0 MB/s eta 0:00:15\n",
            "   ----------- ---------------------------- 11.8/41.0 MB 2.0 MB/s eta 0:00:15\n",
            "   ------------ --------------------------- 12.3/41.0 MB 2.1 MB/s eta 0:00:14\n",
            "   ------------ --------------------------- 12.8/41.0 MB 2.1 MB/s eta 0:00:14\n",
            "   ------------- -------------------------- 13.4/41.0 MB 2.1 MB/s eta 0:00:14\n",
            "   ------------- -------------------------- 14.2/41.0 MB 2.1 MB/s eta 0:00:13\n",
            "   -------------- ------------------------- 14.7/41.0 MB 2.1 MB/s eta 0:00:13\n",
            "   -------------- ------------------------- 15.2/41.0 MB 2.2 MB/s eta 0:00:12\n",
            "   --------------- ------------------------ 15.7/41.0 MB 2.2 MB/s eta 0:00:12\n",
            "   ---------------- ----------------------- 16.5/41.0 MB 2.2 MB/s eta 0:00:12\n",
            "   ---------------- ----------------------- 17.0/41.0 MB 2.2 MB/s eta 0:00:11\n",
            "   ----------------- ---------------------- 17.8/41.0 MB 2.3 MB/s eta 0:00:11\n",
            "   ----------------- ---------------------- 18.4/41.0 MB 2.3 MB/s eta 0:00:10\n",
            "   ------------------ --------------------- 19.1/41.0 MB 2.3 MB/s eta 0:00:10\n",
            "   ------------------- -------------------- 19.7/41.0 MB 2.3 MB/s eta 0:00:10\n",
            "   ------------------- -------------------- 20.4/41.0 MB 2.3 MB/s eta 0:00:09\n",
            "   -------------------- ------------------- 21.2/41.0 MB 2.4 MB/s eta 0:00:09\n",
            "   --------------------- ------------------ 21.8/41.0 MB 2.4 MB/s eta 0:00:09\n",
            "   ---------------------- ----------------- 22.5/41.0 MB 2.4 MB/s eta 0:00:08\n",
            "   ---------------------- ----------------- 23.3/41.0 MB 2.4 MB/s eta 0:00:08\n",
            "   ----------------------- ---------------- 24.1/41.0 MB 2.5 MB/s eta 0:00:07\n",
            "   ------------------------ --------------- 24.9/41.0 MB 2.5 MB/s eta 0:00:07\n",
            "   ------------------------- -------------- 25.7/41.0 MB 2.5 MB/s eta 0:00:07\n",
            "   ------------------------- -------------- 26.5/41.0 MB 2.6 MB/s eta 0:00:06\n",
            "   -------------------------- ------------- 27.3/41.0 MB 2.6 MB/s eta 0:00:06\n",
            "   --------------------------- ------------ 28.3/41.0 MB 2.6 MB/s eta 0:00:05\n",
            "   ---------------------------- ----------- 28.8/41.0 MB 2.6 MB/s eta 0:00:05\n",
            "   ---------------------------- ----------- 29.1/41.0 MB 2.6 MB/s eta 0:00:05\n",
            "   ---------------------------- ----------- 29.6/41.0 MB 2.6 MB/s eta 0:00:05\n",
            "   ----------------------------- ---------- 30.1/41.0 MB 2.6 MB/s eta 0:00:05\n",
            "   ------------------------------ --------- 30.9/41.0 MB 2.6 MB/s eta 0:00:04\n",
            "   ------------------------------ --------- 31.7/41.0 MB 2.6 MB/s eta 0:00:04\n",
            "   ------------------------------- -------- 32.5/41.0 MB 2.6 MB/s eta 0:00:04\n",
            "   -------------------------------- ------- 33.3/41.0 MB 2.7 MB/s eta 0:00:03\n",
            "   --------------------------------- ------ 34.1/41.0 MB 2.7 MB/s eta 0:00:03\n",
            "   ---------------------------------- ----- 34.9/41.0 MB 2.7 MB/s eta 0:00:03\n",
            "   ---------------------------------- ----- 35.7/41.0 MB 2.7 MB/s eta 0:00:02\n",
            "   ----------------------------------- ---- 36.4/41.0 MB 2.7 MB/s eta 0:00:02\n",
            "   ------------------------------------ --- 37.2/41.0 MB 2.8 MB/s eta 0:00:02\n",
            "   ------------------------------------- -- 38.3/41.0 MB 2.8 MB/s eta 0:00:01\n",
            "   -------------------------------------- - 39.1/41.0 MB 2.8 MB/s eta 0:00:01\n",
            "   -------------------------------------- - 39.8/41.0 MB 2.8 MB/s eta 0:00:01\n",
            "   ---------------------------------------  40.9/41.0 MB 2.8 MB/s eta 0:00:01\n",
            "   ---------------------------------------- 41.0/41.0 MB 2.8 MB/s eta 0:00:00\n",
            "Installing collected packages: scipy\n",
            "Successfully installed scipy-1.15.2\n",
            "Note: you may need to restart the kernel to use updated packages.\n"
          ]
        },
        {
          "name": "stderr",
          "output_type": "stream",
          "text": [
            "\n",
            "[notice] A new release of pip is available: 25.0.1 -> 25.1.1\n",
            "[notice] To update, run: python.exe -m pip install --upgrade pip\n"
          ]
        },
        {
          "name": "stdout",
          "output_type": "stream",
          "text": [
            "Collecting matplotlib\n",
            "  Downloading matplotlib-3.10.1-cp313-cp313-win_amd64.whl.metadata (11 kB)\n",
            "Collecting contourpy>=1.0.1 (from matplotlib)\n",
            "  Downloading contourpy-1.3.2-cp313-cp313-win_amd64.whl.metadata (5.5 kB)\n",
            "Collecting cycler>=0.10 (from matplotlib)\n",
            "  Downloading cycler-0.12.1-py3-none-any.whl.metadata (3.8 kB)\n",
            "Collecting fonttools>=4.22.0 (from matplotlib)\n",
            "  Downloading fonttools-4.57.0-cp313-cp313-win_amd64.whl.metadata (104 kB)\n",
            "Collecting kiwisolver>=1.3.1 (from matplotlib)\n",
            "  Downloading kiwisolver-1.4.8-cp313-cp313-win_amd64.whl.metadata (6.3 kB)\n",
            "Requirement already satisfied: numpy>=1.23 in c:\\users\\shart\\workspace\\cs445_opticalflowproj\\.venv\\lib\\site-packages (from matplotlib) (2.2.4)\n",
            "Requirement already satisfied: packaging>=20.0 in c:\\users\\shart\\workspace\\cs445_opticalflowproj\\.venv\\lib\\site-packages (from matplotlib) (24.2)\n",
            "Collecting pillow>=8 (from matplotlib)\n",
            "  Downloading pillow-11.2.1-cp313-cp313-win_amd64.whl.metadata (9.1 kB)\n",
            "Collecting pyparsing>=2.3.1 (from matplotlib)\n",
            "  Downloading pyparsing-3.2.3-py3-none-any.whl.metadata (5.0 kB)\n",
            "Requirement already satisfied: python-dateutil>=2.7 in c:\\users\\shart\\workspace\\cs445_opticalflowproj\\.venv\\lib\\site-packages (from matplotlib) (2.9.0.post0)\n",
            "Requirement already satisfied: six>=1.5 in c:\\users\\shart\\workspace\\cs445_opticalflowproj\\.venv\\lib\\site-packages (from python-dateutil>=2.7->matplotlib) (1.17.0)\n",
            "Downloading matplotlib-3.10.1-cp313-cp313-win_amd64.whl (8.1 MB)\n",
            "   ---------------------------------------- 0.0/8.1 MB ? eta -:--:--\n",
            "   -- ------------------------------------- 0.5/8.1 MB 3.9 MB/s eta 0:00:02\n",
            "   --------- ------------------------------ 1.8/8.1 MB 4.7 MB/s eta 0:00:02\n",
            "   --------------- ------------------------ 3.1/8.1 MB 5.5 MB/s eta 0:00:01\n",
            "   ----------------------- ---------------- 4.7/8.1 MB 6.1 MB/s eta 0:00:01\n",
            "   --------------------------------- ------ 6.8/8.1 MB 6.8 MB/s eta 0:00:01\n",
            "   ---------------------------------------- 8.1/8.1 MB 7.1 MB/s eta 0:00:00\n",
            "Downloading contourpy-1.3.2-cp313-cp313-win_amd64.whl (223 kB)\n",
            "Downloading cycler-0.12.1-py3-none-any.whl (8.3 kB)\n",
            "Downloading fonttools-4.57.0-cp313-cp313-win_amd64.whl (2.2 MB)\n",
            "   ---------------------------------------- 0.0/2.2 MB ? eta -:--:--\n",
            "   ---------------------------------------- 2.2/2.2 MB 10.6 MB/s eta 0:00:00\n",
            "Downloading kiwisolver-1.4.8-cp313-cp313-win_amd64.whl (71 kB)\n",
            "Downloading pillow-11.2.1-cp313-cp313-win_amd64.whl (2.7 MB)\n",
            "   ---------------------------------------- 0.0/2.7 MB ? eta -:--:--\n",
            "   ----------------------------------- ---- 2.4/2.7 MB 11.6 MB/s eta 0:00:01\n",
            "   ---------------------------------------- 2.7/2.7 MB 11.5 MB/s eta 0:00:00\n",
            "Downloading pyparsing-3.2.3-py3-none-any.whl (111 kB)\n",
            "Installing collected packages: pyparsing, pillow, kiwisolver, fonttools, cycler, contourpy, matplotlib\n",
            "Successfully installed contourpy-1.3.2 cycler-0.12.1 fonttools-4.57.0 kiwisolver-1.4.8 matplotlib-3.10.1 pillow-11.2.1 pyparsing-3.2.3\n",
            "Note: you may need to restart the kernel to use updated packages.\n"
          ]
        },
        {
          "name": "stderr",
          "output_type": "stream",
          "text": [
            "\n",
            "[notice] A new release of pip is available: 25.0.1 -> 25.1.1\n",
            "[notice] To update, run: python.exe -m pip install --upgrade pip\n"
          ]
        }
      ],
      "source": [
        "# %pip uninstall cupy cupy-cuda11x -y\n",
        "# %pip install cupy-cuda120\n",
        "\n",
        "%pip install opencv-python\n",
        "%pip install cupy-cuda12x\n",
        "%pip install scipy\n",
        "%pip install matplotlib\n",
        "\n",
        "import cv2\n",
        "import cupy as cp\n",
        "import cupyx.scipy.ndimage\n",
        "import numpy as np\n",
        "import glob\n",
        "import os\n",
        "from scipy.interpolate import griddata\n",
        "import matplotlib.pyplot as plt\n",
        "\n",
        "from scipy.sparse import csr_matrix\n",
        "# from google.colab import drive\n",
        "# drive.mount('/content/drive')"
      ]
    },
    {
      "cell_type": "code",
      "execution_count": 2,
      "metadata": {
        "id": "pBfrhnN5DuCA"
      },
      "outputs": [],
      "source": [
        "def play_video(video, fps):\n",
        "    while (video.isOpened()):\n",
        "        retval, frame = video.read()\n",
        "        if retval:\n",
        "            cv2.imshow(\"Video\", frame)\n",
        "            val = cv2.waitKey(int(1000/fps))\n",
        "            if val == 27:\n",
        "                break\n",
        "        else:\n",
        "            break\n",
        "    video.release()\n",
        "    cv2.destroyAllWindows()\n",
        "\n",
        "def write_video(filename, frames, fps):\n",
        "    output = cv2.VideoWriter(filename, cv2.VideoWriter_fourcc(*'XVID'), fps, (frames[0].shape[1], frames[0].shape[0]), True)\n",
        "    for frame in frames:\n",
        "        output.write(cv2.cvtColor(frame, cv2.COLOR_BGR2RGB))\n",
        "    output.release()\n",
        "\n",
        "def get_video_frames(video):\n",
        "    frames = []\n",
        "    while(video.isOpened()):\n",
        "        retval, frame = video.read()\n",
        "        if retval:\n",
        "            frames.append(cv2.cvtColor(frame, cv2.COLOR_RGB2BGR))\n",
        "        else:\n",
        "            break\n",
        "    return frames\n",
        "def save_half_frames(frames):\n",
        "    os.makedirs('./outputs/even_frames', exist_ok=True)\n",
        "    os.makedirs('./outputs/odd_frames', exist_ok=True)\n",
        "\n",
        "    even_frames = []\n",
        "    odd_frames = []\n",
        "\n",
        "    for i, frame in enumerate(frames):\n",
        "        frame_bgr = cv2.cvtColor(frame, cv2.COLOR_RGB2BGR)\n",
        "\n",
        "        if i % 2 == 0:\n",
        "            even_frames.append(frame)\n",
        "            cv2.imwrite(f\"./outputs/even_frames/frame_{i:04d}.png\", frame_bgr)\n",
        "        else:\n",
        "            odd_frames.append(frame)\n",
        "            cv2.imwrite(f\"./outputs/odd_frames/frame_{i:04d}.png\", frame_bgr)\n",
        "\n",
        "    print(f\"Saved {len(even_frames)} even frames and {len(odd_frames)} odd frames.\")\n",
        "def load_saved_frames(folder):\n",
        "    frame_files = sorted([f for f in os.listdir(folder) if f.endswith('.png')])\n",
        "    loaded_frames = []\n",
        "\n",
        "    for file in frame_files:\n",
        "        path = os.path.join(folder, file)\n",
        "        frame = cv2.imread(path)\n",
        "        if frame is not None:\n",
        "            loaded_frames.append(frame)\n",
        "\n",
        "    print(f\"Loaded {len(loaded_frames)} frames from '{folder}'\")\n",
        "    return loaded_frames"
      ]
    },
    {
      "cell_type": "code",
      "execution_count": 10,
      "metadata": {
        "id": "Uc64fSa0JyHH"
      },
      "outputs": [],
      "source": [
        "def get_frame_pairs(frames: np.ndarray):\n",
        "    return [(frames[i], frames[i + 1]) for i in range(0, len(frames), 2)]\n",
        "\n",
        "def process_window_lk(\n",
        "    window_size_x: int,\n",
        "    window_size_y: int,\n",
        "    start_x: int,\n",
        "    start_y: int,\n",
        "    frame_tplus1: np.ndarray,\n",
        "    frame_t: np.ndarray,\n",
        "    fps: float,\n",
        "    epsilon: float = 1e-4\n",
        ") -> cp.ndarray:\n",
        "    # Calculate the temporal derivative\n",
        "    # frame_t = cv2.cvtColor(frame_t, cv2.COLOR_BGR2RGB)\n",
        "    # frame_tplus1 = cv2.cvtColor(frame_tplus1, cv2.COLOR_BGR2RGB)\n",
        "    H, W, _ = frame_t.shape\n",
        "\n",
        "    delta_t = 1 / fps\n",
        "    # Patch extraction and GPU transfer\n",
        "    patch_t = cp.asarray(frame_t[start_y:start_y+window_size_y, start_x:start_x+window_size_x].astype(np.float32))\n",
        "    patch_t1 = cp.asarray(frame_tplus1[start_y:start_y+window_size_y, start_x:start_x+window_size_x].astype(np.float32))\n",
        "\n",
        "    # Convert to grayscale\n",
        "    patch_t_gray  = 0.2989 * patch_t[:,:,0] + 0.5870 * patch_t[:,:,1] + 0.1140 * patch_t[:,:,2]\n",
        "    patch_t1_gray = 0.2989 * patch_t1[:,:,0] + 0.5870 * patch_t1[:,:,1] + 0.1140 * patch_t1[:,:,2]\n",
        "\n",
        "    # Compute temporal derivative\n",
        "    # I_t = (patch_t1_gray - patch_t_gray) / delta_t\n",
        "    I_t = (patch_t1_gray - patch_t_gray)\n",
        "\n",
        "\n",
        "    # Placeholder for the spatial derivatives\n",
        "    I_x = cp.zeros((window_size_x, window_size_y), dtype=cp.float32)\n",
        "    I_y = cp.zeros((window_size_x, window_size_y), dtype=cp.float32)\n",
        "\n",
        "    if start_x + window_size_x > W or start_y + window_size_y > H:\n",
        "        return cp.zeros((2,1), dtype=cp.float32)\n",
        "\n",
        "    smoothed = cp.asarray(cv2.GaussianBlur(cp.asnumpy(patch_t_gray), (5, 5), sigmaX=1.0, sigmaY=1.0))\n",
        "    I_x = cp.asarray(cv2.Sobel(cp.asnumpy(smoothed), cv2.CV_32F, 1, 0, ksize=3) * 0.5) # ∂/∂x\n",
        "    I_y = cp.asarray(cv2.Sobel(cp.asnumpy(smoothed), cv2.CV_32F, 0, 1, ksize=3) * 0.5) # ∂/∂y\n",
        "\n",
        "    Ix = I_x.flatten()\n",
        "    Iy = I_y.flatten()\n",
        "    It = I_t.flatten()\n",
        "\n",
        "    # The system of equations would look like this\n",
        "    # [\n",
        "    #   [∑ I_x^2,   ∑ I_x I_y],\n",
        "    #   [∑ I_x I_y, ∑ I_y^2]\n",
        "    # ]\n",
        "\n",
        "    A00 = cp.sum(Ix * Ix)   # ∑ I_x^2\n",
        "    A01 = cp.sum(Ix * Iy)   # ∑ I_x I_y\n",
        "    A11 = cp.sum(Iy * Iy)   # ∑ I_y^2\n",
        "\n",
        "    B0 = -cp.sum(Ix * It)   # -∑ I_x I_t\n",
        "    B1 = -cp.sum(Iy * It)   # -∑ I_y I_t\n",
        "\n",
        "    A = cp.array([[A00, A01],\n",
        "                  [A01, A11]], dtype=cp.float32)\n",
        "    B = cp.array([B0, B1],      dtype=cp.float32).reshape(2,1)\n",
        "\n",
        "    # This is striaght from the video where we check how invertible the matrix is\n",
        "    # In other words whether the system of equations are well conditioned or not\n",
        "    # We can think of a system where there is hardly any change, like a patch of texture with no change\n",
        "    det = A00*A11 - A01*A01\n",
        "    if det > epsilon:\n",
        "        uv = cp.linalg.solve(A, B)   # 2×1\n",
        "    else:\n",
        "        uv = cp.zeros((2,1), dtype=cp.float32)\n",
        "    return uv\n",
        "\n"
      ]
    },
    {
      "cell_type": "code",
      "execution_count": null,
      "metadata": {
        "id": "4Sx7YBwlLJOA"
      },
      "outputs": [],
      "source": [
        "!ls \"/content/drive/MyDrive/CS445/FinalProj/subset_of_frames\""
      ]
    },
    {
      "cell_type": "code",
      "execution_count": 5,
      "metadata": {
        "colab": {
          "base_uri": "https://localhost:8080/",
          "height": 211
        },
        "id": "kaRgyvl6Jz_2",
        "outputId": "36853adf-e3c6-488f-a3bd-ed26d711c2e1"
      },
      "outputs": [
        {
          "ename": "RuntimeError",
          "evalue": "No frames loaded — check your folder path or file naming.",
          "output_type": "error",
          "traceback": [
            "\u001b[31m---------------------------------------------------------------------------\u001b[39m",
            "\u001b[31mRuntimeError\u001b[39m                              Traceback (most recent call last)",
            "\u001b[36mCell\u001b[39m\u001b[36m \u001b[39m\u001b[32mIn[5]\u001b[39m\u001b[32m, line 11\u001b[39m\n\u001b[32m      8\u001b[39m         frames.append(img_rgb)\n\u001b[32m     10\u001b[39m \u001b[38;5;28;01mif\u001b[39;00m \u001b[38;5;28mlen\u001b[39m(frames) == \u001b[32m0\u001b[39m:\n\u001b[32m---> \u001b[39m\u001b[32m11\u001b[39m     \u001b[38;5;28;01mraise\u001b[39;00m \u001b[38;5;167;01mRuntimeError\u001b[39;00m(\u001b[33m\"\u001b[39m\u001b[33mNo frames loaded — check your folder path or file naming.\u001b[39m\u001b[33m\"\u001b[39m)\n\u001b[32m     12\u001b[39m fps = \u001b[32m24\u001b[39m\n\u001b[32m     13\u001b[39m window_w, window_h = \u001b[32m100\u001b[39m, \u001b[32m100\u001b[39m\n",
            "\u001b[31mRuntimeError\u001b[39m: No frames loaded — check your folder path or file naming."
          ]
        }
      ],
      "source": [
        "folder = '/content/drive/MyDrive/CS445/FinalProj/'\n",
        "frame_files = sorted(glob.glob(folder + 'subset_of_frames/frame_*.png'))\n",
        "frames = []\n",
        "for f in frame_files:\n",
        "    img = cv2.imread(f)\n",
        "    if img is not None:\n",
        "        img_rgb = cv2.cvtColor(img, cv2.COLOR_BGR2RGB)\n",
        "        frames.append(img_rgb)\n",
        "\n",
        "if len(frames) == 0:\n",
        "    raise RuntimeError(\"No frames loaded — check your folder path or file naming.\")\n",
        "fps = 24\n",
        "window_w, window_h = 100, 100\n",
        "\n",
        "frames = cp.array(frames)\n",
        "T = len(frames)\n",
        "H, W = frames[0].shape[:2]\n",
        "nY = H // window_h\n",
        "nX = W // window_w\n",
        "\n",
        "flows = cp.zeros((T - 1, nY, nX, 2), dtype=cp.float32)\n",
        "\n",
        "for t in range(T - 1):\n",
        "    ft, ftplus1 = frames[t], frames[t + 1]\n",
        "    for y in range(nY):\n",
        "        y0 = y * window_h\n",
        "        for x in range(nX):\n",
        "            x0 = x * window_w\n",
        "            uv = process_window_lk(window_w, window_h, start_x=x0, start_y=y0,\n",
        "                                   frame_tplus1=ftplus1, frame_t=ft, fps=fps)\n",
        "            flows[t, y, x, 0] = uv[0, 0]\n",
        "            flows[t, y, x, 1] = uv[1, 0]\n",
        "\n",
        "T, patch_y, patch_x, uv_shape = flows.shape\n",
        "print(cp.asnumpy(flows).shape)"
      ]
    },
    {
      "cell_type": "code",
      "execution_count": 4,
      "metadata": {
        "id": "FQq6qn3Ov2Rk"
      },
      "outputs": [],
      "source": [
        "def gradients(frame):\n",
        "    grad_x = cp.zeros_like(frame)\n",
        "    grad_y = cp.zeros_like(frame)\n",
        "\n",
        "    grad_x[:, 1:-1] = frame[:, 2:] - frame[:, :-2]\n",
        "    grad_y[1:-1, :] = frame[2:, :] - frame[:-2, :]\n",
        "\n",
        "    return grad_x, grad_y\n",
        "\n",
        "def point_attentuation(R, maxCorners=100, qualityLevel=0.01, minDistance=10):\n",
        "    maxR = R.max()\n",
        "    thresh = qualityLevel * maxR\n",
        "\n",
        "    # 1. Non-Maximum Suppression\n",
        "    footprint = cp.ones((minDistance*2+1, minDistance*2+1), dtype=cp.bool_)\n",
        "    local_max = cupyx.scipy.ndimage.maximum_filter(R, footprint=footprint) == R\n",
        "\n",
        "    # 2. Apply threshold\n",
        "    mask = (R >= thresh) & local_max\n",
        "\n",
        "    # 3. Get (x,y) coords\n",
        "    ys, xs = cp.nonzero(mask)\n",
        "    points = cp.stack([xs, ys], axis=1)\n",
        "\n",
        "    # 4. Sort by R strength descending\n",
        "    scores = R[ys, xs]\n",
        "    sort_idx = cp.argsort(scores)[::-1]\n",
        "    points = points[sort_idx]\n",
        "\n",
        "    # 5. Take top maxCorners\n",
        "    if points.shape[0] > maxCorners:\n",
        "        points = points[:maxCorners]\n",
        "\n",
        "    return points\n",
        "\n",
        "\n",
        "\n",
        "def shi_tomansi_points(frame, winsize, numberpts = 100,  qualityLevel=0.01, minDistance=10):\n",
        "  Scores = []\n",
        "  grad_x, grad_y = gradients(frame)\n",
        "  Ixsqsum = (grad_x*grad_x)\n",
        "  Ixysum = (grad_x*grad_y)\n",
        "  Iysqsum = (grad_y*grad_y)\n",
        "\n",
        "  kern = cp.ones((winsize,winsize))\n",
        "  IXX = cupyx.scipy.ndimage.convolve(Ixsqsum, kern, mode = 'constant')\n",
        "  IXY = cupyx.scipy.ndimage.convolve(Ixysum, kern, mode = 'constant')\n",
        "  IYY = cupyx.scipy.ndimage.convolve(Iysqsum, kern, mode = 'constant')\n",
        "\n",
        "  trace = IXX + IYY\n",
        "  diff = IXX - IYY\n",
        "  sqrt_term = cp.sqrt((diff * 0.5)**2 + IXY**2)\n",
        "\n",
        "  eig1 = trace * 0.5 + sqrt_term\n",
        "  eig2 = trace * 0.5 - sqrt_term\n",
        "\n",
        "  R = cp.minimum(eig1, eig2)\n",
        "  return point_attentuation(R, maxCorners = numberpts, qualityLevel = qualityLevel , minDistance = minDistance)\n"
      ]
    },
    {
      "cell_type": "code",
      "execution_count": 5,
      "metadata": {
        "id": "_8a-3ek9zU5z"
      },
      "outputs": [],
      "source": [
        "def computeAffineTransformation(start, dest):\n",
        "    N = len(start)\n",
        "    ones = cp.ones((N, 1), dtype=cp.float32)\n",
        "    s = cp.concatenate([start, ones], axis=1)\n",
        "    d = dest\n",
        "    M, _, _, _ = cp.linalg.lstsq(s, d, rcond=None)\n",
        "    M = M.T\n",
        "    return M\n"
      ]
    },
    {
      "cell_type": "code",
      "execution_count": 6,
      "metadata": {
        "id": "I-xQ89AHwsUc"
      },
      "outputs": [],
      "source": [
        "def OpticalFlowFrameInterp(frame0,frame1):\n",
        "  h, w = frame0.shape[:2]\n",
        "  gray0 = cv2.cvtColor(frame0, cv2.COLOR_BGR2GRAY).astype(np.float32) / 255.0\n",
        "  gray_cp = cp.asarray(gray0)\n",
        "  keypoints = shi_tomansi_points(gray_cp, winsize=20, numberpts=1000)\n",
        "  points = []\n",
        "  flows = []\n",
        "  for pt in keypoints:\n",
        "      x, y = int(pt[0]), int(pt[1])\n",
        "      if 0 <= x < w and 0 <= y < h:\n",
        "          flow = flow = process_window_lk(30, 30, x, y, frame1, frame0, fps=24)\n",
        "\n",
        "          if not cp.isnan(flow).any():\n",
        "              dx, dy = flow[0].item(), flow[1].item()\n",
        "              points.append([x, y])\n",
        "              flows.append([dx, dy])\n",
        "  points = np.array(points)\n",
        "  flows = np.array(flows)\n",
        "\n",
        "  if len(points) < 10:\n",
        "      return cv2.addWeighted(frame0, 0.5, frame1, 0.5, 0)\n",
        "\n",
        "  grid_x, grid_y = np.meshgrid(np.arange(w), np.arange(h))\n",
        "  points_x = griddata(points, flows[:, 0], (grid_x, grid_y), method='linear', fill_value=0)\n",
        "  points_y = griddata(points, flows[:, 1], (grid_x, grid_y), method='linear', fill_value=0)\n",
        "\n",
        "  map_x_0 = (grid_x + 0.5 * points_x).astype(np.float32)\n",
        "  map_y_0 = (grid_y + 0.5 * points_y).astype(np.float32)\n",
        "\n",
        "  map_x_1 = (grid_x - 0.5 * points_x).astype(np.float32)\n",
        "  map_y_1 = (grid_y - 0.5 * points_y).astype(np.float32)\n",
        "\n",
        "  warp0 = cv2.remap(frame0, map_x_0, map_y_0, interpolation=cv2.INTER_LINEAR, borderMode=cv2.BORDER_REFLECT)\n",
        "  warp1 = cv2.remap(frame1, map_x_1, map_y_1, interpolation=cv2.INTER_LINEAR, borderMode=cv2.BORDER_REFLECT)\n",
        "\n",
        "  interpolated = cv2.addWeighted(warp0, 0.5, warp1, 0.5, 0)\n",
        "  return interpolated\n"
      ]
    },
    {
      "cell_type": "code",
      "execution_count": 7,
      "metadata": {
        "colab": {
          "base_uri": "https://localhost:8080/"
        },
        "id": "IFzakJeRFjzq",
        "outputId": "30ba88fa-796b-4b98-eeb2-38614033a415"
      },
      "outputs": [
        {
          "name": "stdout",
          "output_type": "stream",
          "text": [
            "Original frames: 0\n",
            "Percent Done: 100%"
          ]
        },
        {
          "ename": "IndexError",
          "evalue": "list index out of range",
          "output_type": "error",
          "traceback": [
            "\u001b[31m---------------------------------------------------------------------------\u001b[39m",
            "\u001b[31mIndexError\u001b[39m                                Traceback (most recent call last)",
            "\u001b[36mCell\u001b[39m\u001b[36m \u001b[39m\u001b[32mIn[7]\u001b[39m\u001b[32m, line 22\u001b[39m\n\u001b[32m     19\u001b[39m     \u001b[38;5;28mprint\u001b[39m(\u001b[33mf\u001b[39m\u001b[33m\"\u001b[39m\u001b[33mWritten output to \u001b[39m\u001b[38;5;132;01m{\u001b[39;00moutput_path\u001b[38;5;132;01m}\u001b[39;00m\u001b[33m\"\u001b[39m)\n\u001b[32m     21\u001b[39m \u001b[38;5;66;03m# interpolate_full_video(\"roadrunner.mp4\", \"newvid.avi\")\u001b[39;00m\n\u001b[32m---> \u001b[39m\u001b[32m22\u001b[39m \u001b[43minterpolate_full_video\u001b[49m\u001b[43m(\u001b[49m\u001b[33;43m\"\u001b[39;49m\u001b[33;43mmedia/output_24_fps_nvenc_hevc.mp4\u001b[39;49m\u001b[33;43m\"\u001b[39;49m\u001b[43m,\u001b[49m\u001b[43m \u001b[49m\u001b[33;43m\"\u001b[39;49m\u001b[33;43mhogwarts.avi\u001b[39;49m\u001b[33;43m\"\u001b[39;49m\u001b[43m)\u001b[49m\n",
            "\u001b[36mCell\u001b[39m\u001b[36m \u001b[39m\u001b[32mIn[7]\u001b[39m\u001b[32m, line 16\u001b[39m, in \u001b[36minterpolate_full_video\u001b[39m\u001b[34m(input_path, output_path)\u001b[39m\n\u001b[32m     14\u001b[39m     \u001b[38;5;28mprint\u001b[39m(\u001b[33mf\u001b[39m\u001b[33m\"\u001b[39m\u001b[38;5;130;01m\\r\u001b[39;00m\u001b[33mPercent Done: \u001b[39m\u001b[38;5;132;01m{\u001b[39;00m\u001b[32m100\u001b[39m\u001b[38;5;250m \u001b[39m*\u001b[38;5;250m \u001b[39mi\u001b[38;5;250m \u001b[39m/\u001b[38;5;250m \u001b[39m\u001b[38;5;28mlen\u001b[39m(frames)\u001b[38;5;132;01m:\u001b[39;00m\u001b[33m.2f\u001b[39m\u001b[38;5;132;01m}\u001b[39;00m\u001b[33m%\u001b[39m\u001b[33m\"\u001b[39m, end=\u001b[33m'\u001b[39m\u001b[33m'\u001b[39m, flush=\u001b[38;5;28;01mTrue\u001b[39;00m)\n\u001b[32m     15\u001b[39m \u001b[38;5;28mprint\u001b[39m(\u001b[33mf\u001b[39m\u001b[33m\"\u001b[39m\u001b[38;5;130;01m\\r\u001b[39;00m\u001b[33mPercent Done: \u001b[39m\u001b[38;5;132;01m{\u001b[39;00m\u001b[32m100\u001b[39m\u001b[38;5;132;01m}\u001b[39;00m\u001b[33m%\u001b[39m\u001b[33m\"\u001b[39m, end=\u001b[33m'\u001b[39m\u001b[33m'\u001b[39m, flush=\u001b[38;5;28;01mTrue\u001b[39;00m)\n\u001b[32m---> \u001b[39m\u001b[32m16\u001b[39m high_fps_frames.append(\u001b[43mframes\u001b[49m\u001b[43m[\u001b[49m\u001b[43m-\u001b[49m\u001b[32;43m1\u001b[39;49m\u001b[43m]\u001b[49m)\n\u001b[32m     17\u001b[39m \u001b[38;5;28mprint\u001b[39m(\u001b[33mf\u001b[39m\u001b[33m\"\u001b[39m\u001b[38;5;130;01m\\n\u001b[39;00m\u001b[33mOutput frames: \u001b[39m\u001b[38;5;132;01m{\u001b[39;00m\u001b[38;5;28mlen\u001b[39m(high_fps_frames)\u001b[38;5;132;01m}\u001b[39;00m\u001b[33m\"\u001b[39m)\n\u001b[32m     18\u001b[39m write_video(output_path, high_fps_frames, fps * \u001b[32m2\u001b[39m)\n",
            "\u001b[31mIndexError\u001b[39m: list index out of range"
          ]
        }
      ],
      "source": [
        "def interpolate_full_video(input_path, output_path):\n",
        "    video = cv2.VideoCapture(input_path)\n",
        "    frames = get_video_frames(video)\n",
        "    fps = video.get(cv2.CAP_PROP_FPS)\n",
        "    print(f\"Original frames: {len(frames)}\")\n",
        "\n",
        "    high_fps_frames = []\n",
        "    for i in range(len(frames) - 1):\n",
        "        f0 = frames[i]\n",
        "        f1 = frames[i + 1]\n",
        "        high_fps_frames.append(f0)\n",
        "        f_interp = OpticalFlowFrameInterp(f0, f1)\n",
        "        high_fps_frames.append(f_interp)\n",
        "        print(f\"\\rPercent Done: {100 * i / len(frames):.2f}%\", end='', flush=True)\n",
        "    print(f\"\\rPercent Done: {100}%\", end='', flush=True)\n",
        "    high_fps_frames.append(frames[-1])\n",
        "    print(f\"\\nOutput frames: {len(high_fps_frames)}\")\n",
        "    write_video(output_path, high_fps_frames, fps * 2)\n",
        "    print(f\"Written output to {output_path}\")\n",
        "\n",
        "# interpolate_full_video(\"roadrunner.mp4\", \"newvid.avi\")\n",
        "interpolate_full_video(\"media/output_24_fps_nvenc_hevc.mp4\", \"hogwarts.avi\")\n"
      ]
    },
    {
      "cell_type": "code",
      "execution_count": 11,
      "metadata": {},
      "outputs": [],
      "source": [
        "from concurrent.futures import ThreadPoolExecutor, as_completed\n",
        "\n",
        "def interp_pair(i, f0, f1):\n",
        "    return i, OpticalFlowFrameInterp(f0, f1)\n",
        "\n",
        "def interpolate_full_video_parallel(input_path, output_path, max_workers=16):\n",
        "    video   = cv2.VideoCapture(input_path)\n",
        "    frames  = get_video_frames(video)\n",
        "    fps     = video.get(cv2.CAP_PROP_FPS)\n",
        "\n",
        "    pairs = [(i, frames[i], frames[i+1]) for i in range(len(frames)-1)]\n",
        "    high_fps_frames = []\n",
        "    with ThreadPoolExecutor(max_workers=max_workers) as ex:\n",
        "        futures = [ex.submit(interp_pair, *p) for p in pairs]\n",
        "        results = [None]*(len(frames)-1)\n",
        "        ctr = 0\n",
        "        for fut in as_completed(futures):\n",
        "            i, f_interp = fut.result()\n",
        "            results[i] = f_interp\n",
        "            ctr += 1\n",
        "            print(f\"\\rPercent Done: {100 * ctr / len(frames):.2f}%\", end='', flush=True)\n",
        "\n",
        "    for i, f_interp in enumerate(results):\n",
        "        high_fps_frames.append(frames[i])\n",
        "        high_fps_frames.append(f_interp)\n",
        "    high_fps_frames.append(frames[-1])\n",
        "\n",
        "    write_video(output_path, high_fps_frames, fps*2)"
      ]
    },
    {
      "cell_type": "code",
      "execution_count": 12,
      "metadata": {},
      "outputs": [
        {
          "name": "stdout",
          "output_type": "stream",
          "text": [
            "Percent Done: 99.91%"
          ]
        }
      ],
      "source": [
        "interpolate_full_video_parallel(\"media/output_24_fps_nvenc_hevc.mp4\", \"hogwarts_parallel.avi\")"
      ]
    },
    {
      "cell_type": "code",
      "execution_count": 10,
      "metadata": {},
      "outputs": [
        {
          "name": "stdout",
          "output_type": "stream",
          "text": [
            "Original %s, New frame generated %s 24.0 48.0\n"
          ]
        }
      ],
      "source": [
        "original   = cv2.VideoCapture(\"media/output_24_fps_nvenc_hevc.mp4\")\n",
        "new       = cv2.VideoCapture(\"hogwarts_parallel.avi\")\n",
        "fps = original.get(cv2.CAP_PROP_FPS)\n",
        "new_fps = new.get(cv2.CAP_PROP_FPS)\n",
        "print (\"Original %s, New frame generated %s\", fps, new_fps)\n"
      ]
    },
    {
      "cell_type": "code",
      "execution_count": null,
      "metadata": {},
      "outputs": [
        {
          "name": "stdout",
          "output_type": "stream",
          "text": [
            "Percent Done: 99.66%Original %s, New frame generated %s 30.0 60.0\n"
          ]
        }
      ],
      "source": [
        "interpolate_full_video_parallel(\"media/roadrunner.mp4\", \"roadrunner_parallel.avi\")\n",
        "original   = cv2.VideoCapture(\"media/roadrunner.mp4\")\n",
        "new       = cv2.VideoCapture(\"roadrunner_parallel.avi\")\n",
        "fps = original.get(cv2.CAP_PROP_FPS)\n",
        "new_fps = new.get(cv2.CAP_PROP_FPS)\n",
        "print (\"Original %s, New frame generated %s\", fps, new_fps)"
      ]
    }
  ],
  "metadata": {
    "accelerator": "GPU",
    "colab": {
      "gpuType": "T4",
      "include_colab_link": true,
      "provenance": []
    },
    "kernelspec": {
      "display_name": ".venv",
      "language": "python",
      "name": "python3"
    },
    "language_info": {
      "codemirror_mode": {
        "name": "ipython",
        "version": 3
      },
      "file_extension": ".py",
      "mimetype": "text/x-python",
      "name": "python",
      "nbconvert_exporter": "python",
      "pygments_lexer": "ipython3",
      "version": "3.13.3"
    }
  },
  "nbformat": 4,
  "nbformat_minor": 0
}
