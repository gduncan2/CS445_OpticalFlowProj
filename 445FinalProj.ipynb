{
  "cells": [
    {
      "cell_type": "markdown",
      "metadata": {
        "colab_type": "text",
        "id": "view-in-github"
      },
      "source": [
        "<a href=\"https://colab.research.google.com/github/gduncan2/CS445_OpticalFlowProj/blob/main/445FinalProj.ipynb\" target=\"_parent\"><img src=\"https://colab.research.google.com/assets/colab-badge.svg\" alt=\"Open In Colab\"/></a>"
      ]
    },
    {
      "cell_type": "code",
      "execution_count": null,
      "metadata": {
        "id": "aPaBHcBau-ki"
      },
      "outputs": [],
      "source": [
        "# ffmpeg -hwaccel cuda -i hogwarts_legacy_staircase_video.mp4 -filter:v fps=24 -c:v hevc_nvenc output_24_fps_nvenc_hevc.mp4\n",
        "# I first used ffmpeg with CUDA to convert the video to 24 fps, from the original choppy 30 fps gameplay, to keep the input rate constant.\n",
        "# The original video is \"hogwarts_legacy_staircase_video.mp4\" and the output is \"output_24_fps_nvenc_hevc.mp4\"."
      ]
    },
    {
      "cell_type": "code",
      "execution_count": null,
      "metadata": {},
      "outputs": [],
      "source": [
        "# Now we can split this video into frames using ffmpeg and CUDA.\n",
        "# ffmpeg -hwaccel cuda -i output_24_fps_nvenc_hevc.mp4 -vsync 0 frames/frame_%05d.png"
      ]
    }
  ],
  "metadata": {
    "colab": {
      "authorship_tag": "ABX9TyNYj/DBMiP2HhRH0BbsLCU1",
      "include_colab_link": true,
      "provenance": []
    },
    "kernelspec": {
      "display_name": ".venv",
      "language": "python",
      "name": "python3"
    },
    "language_info": {
      "codemirror_mode": {
        "name": "ipython",
        "version": 3
      },
      "file_extension": ".py",
      "mimetype": "text/x-python",
      "name": "python",
      "nbconvert_exporter": "python",
      "pygments_lexer": "ipython3",
      "version": "3.13.3"
    }
  },
  "nbformat": 4,
  "nbformat_minor": 0
}
