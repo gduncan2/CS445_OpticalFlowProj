{
  "cells": [
    {
      "cell_type": "markdown",
      "metadata": {
        "colab_type": "text",
        "id": "view-in-github"
      },
      "source": [
        "<a href=\"https://colab.research.google.com/github/gduncan2/CS445_OpticalFlowProj/blob/main/445FinalProj.ipynb\" target=\"_parent\"><img src=\"https://colab.research.google.com/assets/colab-badge.svg\" alt=\"Open In Colab\"/></a>"
      ]
    },
    {
      "cell_type": "code",
      "execution_count": 1,
      "metadata": {
        "colab": {
          "base_uri": "https://localhost:8080/"
        },
        "id": "aPaBHcBau-ki",
        "outputId": "dc168fab-36af-4556-bcd9-8937b3d5572c"
      },
      "outputs": [
        {
          "name": "stderr",
          "output_type": "stream",
          "text": [
            "c:\\Users\\deanb\\AppData\\Local\\Programs\\Python\\Python313\\Lib\\site-packages\\cupy\\_environment.py:217: UserWarning: CUDA path could not be detected. Set CUDA_PATH environment variable if CuPy fails to load.\n",
            "  warnings.warn(\n"
          ]
        },
        {
          "ename": "ModuleNotFoundError",
          "evalue": "No module named 'google.colab'",
          "output_type": "error",
          "traceback": [
            "\u001b[1;31m---------------------------------------------------------------------------\u001b[0m",
            "\u001b[1;31mModuleNotFoundError\u001b[0m                       Traceback (most recent call last)",
            "Cell \u001b[1;32mIn[1], line 8\u001b[0m\n\u001b[0;32m      6\u001b[0m \u001b[38;5;28;01mimport\u001b[39;00m\u001b[38;5;250m \u001b[39m\u001b[38;5;21;01mos\u001b[39;00m\n\u001b[0;32m      7\u001b[0m \u001b[38;5;28;01mfrom\u001b[39;00m\u001b[38;5;250m \u001b[39m\u001b[38;5;21;01mscipy\u001b[39;00m\u001b[38;5;21;01m.\u001b[39;00m\u001b[38;5;21;01msparse\u001b[39;00m\u001b[38;5;250m \u001b[39m\u001b[38;5;28;01mimport\u001b[39;00m csr_matrix\n\u001b[1;32m----> 8\u001b[0m \u001b[38;5;28;01mfrom\u001b[39;00m\u001b[38;5;250m \u001b[39m\u001b[38;5;21;01mgoogle\u001b[39;00m\u001b[38;5;21;01m.\u001b[39;00m\u001b[38;5;21;01mcolab\u001b[39;00m\u001b[38;5;250m \u001b[39m\u001b[38;5;28;01mimport\u001b[39;00m drive\n\u001b[0;32m      9\u001b[0m drive\u001b[38;5;241m.\u001b[39mmount(\u001b[38;5;124m'\u001b[39m\u001b[38;5;124m/content/drive\u001b[39m\u001b[38;5;124m'\u001b[39m)\n",
            "\u001b[1;31mModuleNotFoundError\u001b[0m: No module named 'google.colab'"
          ]
        }
      ],
      "source": [
        "import cv2\n",
        "import cupy as cp\n",
        "import cupyx.scipy.ndimage\n",
        "import numpy as np\n",
        "import glob\n",
        "import os\n",
        "from scipy.sparse import csr_matrix\n",
        "from google.colab import drive\n",
        "drive.mount('/content/drive')"
      ]
    },
    {
      "cell_type": "code",
      "execution_count": null,
      "metadata": {
        "id": "Uc64fSa0JyHH"
      },
      "outputs": [],
      "source": [
        "def get_frame_pairs(frames: np.ndarray):\n",
        "    return [(frames[i], frames[i + 1]) for i in range(0, len(frames), 2)]\n",
        "\n",
        "def process_window_lk(\n",
        "    window_size_x: int,\n",
        "    window_size_y: int,\n",
        "    start_x: int,\n",
        "    start_y: int,\n",
        "    frame_tplus1: np.ndarray,\n",
        "    frame_t: np.ndarray,\n",
        "    fps: float,\n",
        "    epsilon: float = 1e-4\n",
        ") -> cp.ndarray:\n",
        "    # Calculate the temporal derivative\n",
        "    # frame_t = cv2.cvtColor(frame_t, cv2.COLOR_BGR2RGB)\n",
        "    # frame_tplus1 = cv2.cvtColor(frame_tplus1, cv2.COLOR_BGR2RGB)\n",
        "    H, W, _ = frame_t.shape\n",
        "\n",
        "    delta_t = 1 / fps\n",
        "    # Patch extraction and GPU transfer\n",
        "    patch_t = cp.asarray(frame_t[start_y:start_y+window_size_y, start_x:start_x+window_size_x].astype(np.float32))\n",
        "    patch_t1 = cp.asarray(frame_tplus1[start_y:start_y+window_size_y, start_x:start_x+window_size_x].astype(np.float32))\n",
        "\n",
        "    # Convert to grayscale\n",
        "    patch_t_gray  = 0.2989 * patch_t[:,:,0] + 0.5870 * patch_t[:,:,1] + 0.1140 * patch_t[:,:,2]\n",
        "    patch_t1_gray = 0.2989 * patch_t1[:,:,0] + 0.5870 * patch_t1[:,:,1] + 0.1140 * patch_t1[:,:,2]\n",
        "\n",
        "    # Compute temporal derivative\n",
        "    I_t = (patch_t1_gray - patch_t_gray) / delta_t\n",
        "\n",
        "    # Placeholder for the spatial derivatives\n",
        "    I_x = cp.zeros((window_size_x, window_size_y), dtype=cp.float32)\n",
        "    I_y = cp.zeros((window_size_x, window_size_y), dtype=cp.float32)\n",
        "\n",
        "    if start_x + window_size_x > W or start_y + window_size_y > H:\n",
        "        return cp.zeros((2,1), dtype=cp.float32)\n",
        "\n",
        "    smoothed = cp.asarray(cv2.GaussianBlur(cp.asnumpy(patch_t_gray), (5, 5), sigmaX=1.0, sigmaY=1.0))\n",
        "    I_x = cp.asarray(cv2.Sobel(cp.asnumpy(smoothed), cv2.CV_32F, 1, 0, ksize=3) * 0.5) # ∂/∂x\n",
        "    I_y = cp.asarray(cv2.Sobel(cp.asnumpy(smoothed), cv2.CV_32F, 0, 1, ksize=3) * 0.5) # ∂/∂y\n",
        "\n",
        "    Ix = I_x.flatten()\n",
        "    Iy = I_y.flatten()\n",
        "    It = I_t.flatten()\n",
        "\n",
        "    # The system of equations would look like this\n",
        "    # [\n",
        "    #   [∑ I_x^2,   ∑ I_x I_y],\n",
        "    #   [∑ I_x I_y, ∑ I_y^2]\n",
        "    # ]\n",
        "\n",
        "    A00 = cp.sum(Ix * Ix)   # ∑ I_x^2\n",
        "    A01 = cp.sum(Ix * Iy)   # ∑ I_x I_y\n",
        "    A11 = cp.sum(Iy * Iy)   # ∑ I_y^2\n",
        "\n",
        "    B0 = -cp.sum(Ix * It)   # -∑ I_x I_t\n",
        "    B1 = -cp.sum(Iy * It)   # -∑ I_y I_t\n",
        "\n",
        "    A = cp.array([[A00, A01],\n",
        "                  [A01, A11]], dtype=cp.float32)\n",
        "    B = cp.array([B0, B1],      dtype=cp.float32).reshape(2,1)\n",
        "\n",
        "    # This is striaght from the video where we check how invertible the matrix is\n",
        "    # In other words whether the system of equations are well conditioned or not\n",
        "    # We can think of a system where there is hardly any change, like a patch of texture with no change\n",
        "    det = A00*A11 - A01*A01\n",
        "    if det > epsilon:\n",
        "        uv = cp.linalg.solve(A, B)   # 2×1\n",
        "    else:\n",
        "        uv = cp.zeros((2,1), dtype=cp.float32)\n",
        "    return uv\n",
        "\n"
      ]
    },
    {
      "cell_type": "code",
      "execution_count": null,
      "metadata": {
        "id": "4Sx7YBwlLJOA"
      },
      "outputs": [],
      "source": [
        "!ls \"/content/drive/MyDrive/CS445/FinalProj/subset_of_frames\""
      ]
    },
    {
      "cell_type": "code",
      "execution_count": null,
      "metadata": {
        "colab": {
          "base_uri": "https://localhost:8080/"
        },
        "id": "kaRgyvl6Jz_2",
        "outputId": "b5bd6e38-b89d-458d-8127-c6c8957a4d22"
      },
      "outputs": [
        {
          "name": "stdout",
          "output_type": "stream",
          "text": [
            "(7, 10, 19, 2)\n"
          ]
        }
      ],
      "source": [
        "folder = '/content/drive/MyDrive/CS445/FinalProj/'\n",
        "frame_files = sorted(glob.glob(folder + 'subset_of_frames/frame_*.png'))\n",
        "frames = []\n",
        "for f in frame_files:\n",
        "    img = cv2.imread(f)\n",
        "    if img is not None:\n",
        "        img_rgb = cv2.cvtColor(img, cv2.COLOR_BGR2RGB)\n",
        "        frames.append(img_rgb)\n",
        "\n",
        "if len(frames) == 0:\n",
        "    raise RuntimeError(\"No frames loaded — check your folder path or file naming.\")\n",
        "fps = 24\n",
        "window_w, window_h = 100, 100\n",
        "\n",
        "frames = cp.array(frames)\n",
        "T = len(frames)\n",
        "H, W = frames[0].shape[:2]\n",
        "nY = H // window_h\n",
        "nX = W // window_w\n",
        "\n",
        "flows = cp.zeros((T - 1, nY, nX, 2), dtype=cp.float32)\n",
        "\n",
        "for t in range(T - 1):\n",
        "    ft, ftplus1 = frames[t], frames[t + 1]\n",
        "    for y in range(nY):\n",
        "        y0 = y * window_h\n",
        "        for x in range(nX):\n",
        "            x0 = x * window_w\n",
        "            uv = process_window_lk(window_w, window_h, start_x=x0, start_y=y0,\n",
        "                                   frame_tplus1=ftplus1, frame_t=ft, fps=fps)\n",
        "            flows[t, y, x, 0] = uv[0, 0]\n",
        "            flows[t, y, x, 1] = uv[1, 0]\n",
        "\n",
        "T, patch_y, patch_x, uv_shape = flows.shape\n",
        "print(cp.asnumpy(flows).shape)"
      ]
    },
    {
      "cell_type": "code",
      "execution_count": null,
      "metadata": {
        "id": "FQq6qn3Ov2Rk"
      },
      "outputs": [],
      "source": [
        "def gradients(frame):\n",
        "    grad_x = cp.zeros_like(frame)\n",
        "    grad_y = cp.zeros_like(frame)\n",
        "\n",
        "    grad_x[:, 1:-1] = frame[:, 2:] - frame[:, :-2]\n",
        "    grad_y[1:-1, :] = frame[2:, :] - frame[:-2, :]\n",
        "\n",
        "    return grad_x, grad_y\n",
        "\n",
        "def point_attentuation(R, maxCorners=100, qualityLevel=0.01, minDistance=10):\n",
        "    maxR = R.max()\n",
        "    thresh = qualityLevel * maxR\n",
        "\n",
        "    # 1. Non-Maximum Suppression\n",
        "    footprint = cp.ones((minDistance*2+1, minDistance*2+1), dtype=cp.bool_)\n",
        "    local_max = cupyx.scipy.ndimage.maximum_filter(R, footprint=footprint) == R\n",
        "\n",
        "    # 2. Apply threshold\n",
        "    mask = (R >= thresh) & local_max\n",
        "\n",
        "    # 3. Get (x,y) coords\n",
        "    ys, xs = cp.nonzero(mask)\n",
        "    points = cp.stack([xs, ys], axis=1)\n",
        "\n",
        "    # 4. Sort by R strength descending\n",
        "    scores = R[ys, xs]\n",
        "    sort_idx = cp.argsort(scores)[::-1]\n",
        "    points = points[sort_idx]\n",
        "\n",
        "    # 5. Take top maxCorners\n",
        "    if points.shape[0] > maxCorners:\n",
        "        points = points[:maxCorners]\n",
        "\n",
        "    return points\n",
        "\n",
        "\n",
        "\n",
        "def shi_tomansi_points(frame, winsize, numberpts = 100,  qualityLevel=0.01, minDistance=10):\n",
        "  Scores = []\n",
        "  grad_x, grad_y = gradients(frame)\n",
        "  Ixsqsum = (grad_x*grad_x)\n",
        "  Ixysum = (grad_x*grad_y)\n",
        "  Iysqsum = (grad_y*grad_y)\n",
        "\n",
        "  kern = cp.ones((winsize,winsize))\n",
        "  IXX = cupyx.scipy.ndimage.convolve(Ixsqsum, kern, mode = 'constant')\n",
        "  IXY = cupyx.scipy.ndimage.convolve(Ixysum, kern, mode = 'constant')\n",
        "  IYY = cupyx.scipy.ndimage.convolve(Iysqsum, kern, mode = 'constant')\n",
        "\n",
        "  trace = IXX + IYY\n",
        "  diff = IXX - IYY\n",
        "  sqrt_term = cp.sqrt((diff * 0.5)**2 + IXY**2)\n",
        "\n",
        "  eig1 = trace * 0.5 + sqrt_term\n",
        "  eig2 = trace * 0.5 - sqrt_term\n",
        "\n",
        "  R = cp.minimum(eig1, eig2)\n",
        "  return point_attentuation(R, maxCorners = numberpts, qualityLevel = qualityLevel , minDistance = minDistance)\n"
      ]
    },
    {
      "cell_type": "code",
      "execution_count": 2,
      "metadata": {},
      "outputs": [],
      "source": [
        "def computeAffineTransformation(start, dest):\n",
        "  N = len(start)\n",
        "  ones = cp.ones((N, 1), dtype=cp.float32)\n",
        "  s_x = start[:, 0:1]\n",
        "  s_y = start[:, 1:2]\n",
        "  s = cp.concatenate([s_x, s_y, ones], axis=1)\n",
        "  d_x = dest[:, 0:1]\n",
        "  d_y = dest[:, 1:2]\n",
        "  d = cp.concatenate([d_x, d_y, ones], axis=1)\n",
        "  M, _, _, _ = cp.linalg.lstsq(s.T,d.T)\n",
        "  zeros = cp.zeros(N)\n",
        "  zeros[-1] = 1\n",
        "  zeros = cp.array([zeros])\n",
        "  M = M.T\n",
        "  M = cp.concatenate([M,zeros], axis=0)\n",
        "  return M"
      ]
    },
    {
      "cell_type": "code",
      "execution_count": null,
      "metadata": {
        "id": "I-xQ89AHwsUc"
      },
      "outputs": [],
      "source": [
        "frame = cv2.imread('/content/frame_0005.png')\n",
        "\n",
        "input_frame = cv2.cvtColor(frame, cv2.COLOR_BGR2GRAY)\n",
        "M = shi_tomansi_points(cp.array(input_frame), 3, numberpts = 500,  qualityLevel=0.01, minDistance=25)\n",
        "\n",
        "corners_img = np.int32(cp.asnumpy(M))\n",
        "for corner in corners_img:\n",
        "    x, y = corner.ravel()\n",
        "    cv2.circle(frame, (x, y), 3, (0, 255, 0), -1)\n",
        "\n",
        "plt.figure(figsize=(10,10))\n",
        "plt.imshow(cv2.cvtColor(frame, cv2.COLOR_BGR2RGB))\n",
        "plt.axis('off')\n",
        "plt.show()"
      ]
    }
  ],
  "metadata": {
    "accelerator": "GPU",
    "colab": {
      "gpuType": "T4",
      "include_colab_link": true,
      "provenance": []
    },
    "kernelspec": {
      "display_name": "Python 3",
      "name": "python3"
    },
    "language_info": {
      "codemirror_mode": {
        "name": "ipython",
        "version": 3
      },
      "file_extension": ".py",
      "mimetype": "text/x-python",
      "name": "python",
      "nbconvert_exporter": "python",
      "pygments_lexer": "ipython3",
      "version": "3.13.1"
    }
  },
  "nbformat": 4,
  "nbformat_minor": 0
}
