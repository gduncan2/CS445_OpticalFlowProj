{
  "nbformat": 4,
  "nbformat_minor": 0,
  "metadata": {
    "colab": {
      "provenance": [],
      "gpuType": "T4",
      "include_colab_link": true
    },
    "kernelspec": {
      "name": "python3",
      "display_name": "Python 3"
    },
    "language_info": {
      "name": "python"
    },
    "accelerator": "GPU"
  },
  "cells": [
    {
      "cell_type": "markdown",
      "metadata": {
        "id": "view-in-github",
        "colab_type": "text"
      },
      "source": [
        "<a href=\"https://colab.research.google.com/github/gduncan2/CS445_OpticalFlowProj/blob/main/445FinalProjCOODIES.ipynb\" target=\"_parent\"><img src=\"https://colab.research.google.com/assets/colab-badge.svg\" alt=\"Open In Colab\"/></a>"
      ]
    },
    {
      "cell_type": "code",
      "execution_count": 1,
      "metadata": {
        "id": "aPaBHcBau-ki",
        "colab": {
          "base_uri": "https://localhost:8080/"
        },
        "outputId": "dc168fab-36af-4556-bcd9-8937b3d5572c"
      },
      "outputs": [
        {
          "output_type": "stream",
          "name": "stdout",
          "text": [
            "Mounted at /content/drive\n"
          ]
        }
      ],
      "source": [
        "import cv2\n",
        "import cupy as cp\n",
        "import numpy as np\n",
        "import glob\n",
        "import os\n",
        "from scipy.sparse import csr_matrix\n",
        "from google.colab import drive\n",
        "drive.mount('/content/drive')"
      ]
    },
    {
      "cell_type": "code",
      "source": [
        "def get_frame_pairs(frames: np.ndarray):\n",
        "    return [(frames[i], frames[i + 1]) for i in range(0, len(frames), 2)]\n",
        "\n",
        "def process_window_lk(\n",
        "    window_size_x: int,\n",
        "    window_size_y: int,\n",
        "    start_x: int,\n",
        "    start_y: int,\n",
        "    frame_tplus1: np.ndarray,\n",
        "    frame_t: np.ndarray,\n",
        "    fps: float,\n",
        "    epsilon: float = 1e-4\n",
        ") -> cp.ndarray:\n",
        "    # Calculate the temporal derivative\n",
        "    # frame_t = cv2.cvtColor(frame_t, cv2.COLOR_BGR2RGB)\n",
        "    # frame_tplus1 = cv2.cvtColor(frame_tplus1, cv2.COLOR_BGR2RGB)\n",
        "    H, W, _ = frame_t.shape\n",
        "\n",
        "    delta_t = 1 / fps\n",
        "    # Patch extraction and GPU transfer\n",
        "    patch_t = cp.asarray(frame_t[start_y:start_y+window_size_y, start_x:start_x+window_size_x].astype(np.float32))\n",
        "    patch_t1 = cp.asarray(frame_tplus1[start_y:start_y+window_size_y, start_x:start_x+window_size_x].astype(np.float32))\n",
        "\n",
        "    # Convert to grayscale\n",
        "    patch_t_gray  = 0.2989 * patch_t[:,:,0] + 0.5870 * patch_t[:,:,1] + 0.1140 * patch_t[:,:,2]\n",
        "    patch_t1_gray = 0.2989 * patch_t1[:,:,0] + 0.5870 * patch_t1[:,:,1] + 0.1140 * patch_t1[:,:,2]\n",
        "\n",
        "    # Compute temporal derivative\n",
        "    I_t = (patch_t1_gray - patch_t_gray) / delta_t\n",
        "\n",
        "    # Placeholder for the spatial derivatives\n",
        "    I_x = cp.zeros((window_size_x, window_size_y), dtype=cp.float32)\n",
        "    I_y = cp.zeros((window_size_x, window_size_y), dtype=cp.float32)\n",
        "\n",
        "    if start_x + window_size_x > W or start_y + window_size_y > H:\n",
        "        return cp.zeros((2,1), dtype=cp.float32)\n",
        "\n",
        "    smoothed = cp.asarray(cv2.GaussianBlur(cp.asnumpy(patch_t_gray), (5, 5), sigmaX=1.0, sigmaY=1.0))\n",
        "    I_x = cp.asarray(cv2.Sobel(cp.asnumpy(smoothed), cv2.CV_32F, 1, 0, ksize=3) * 0.5) # ∂/∂x\n",
        "    I_y = cp.asarray(cv2.Sobel(cp.asnumpy(smoothed), cv2.CV_32F, 0, 1, ksize=3) * 0.5) # ∂/∂y\n",
        "\n",
        "    Ix = I_x.flatten()\n",
        "    Iy = I_y.flatten()\n",
        "    It = I_t.flatten()\n",
        "\n",
        "    # The system of equations would look like this\n",
        "    # [\n",
        "    #   [∑ I_x^2,   ∑ I_x I_y],\n",
        "    #   [∑ I_x I_y, ∑ I_y^2]\n",
        "    # ]\n",
        "\n",
        "    A00 = cp.sum(Ix * Ix)   # ∑ I_x^2\n",
        "    A01 = cp.sum(Ix * Iy)   # ∑ I_x I_y\n",
        "    A11 = cp.sum(Iy * Iy)   # ∑ I_y^2\n",
        "\n",
        "    B0 = -cp.sum(Ix * It)   # -∑ I_x I_t\n",
        "    B1 = -cp.sum(Iy * It)   # -∑ I_y I_t\n",
        "\n",
        "    A = cp.array([[A00, A01],\n",
        "                  [A01, A11]], dtype=cp.float32)\n",
        "    B = cp.array([B0, B1],      dtype=cp.float32).reshape(2,1)\n",
        "\n",
        "    # This is striaght from the video where we check how invertible the matrix is\n",
        "    # In other words whether the system of equations are well conditioned or not\n",
        "    # We can think of a system where there is hardly any change, like a patch of texture with no change\n",
        "    det = A00*A11 - A01*A01\n",
        "    if det > epsilon:\n",
        "        uv = cp.linalg.solve(A, B)   # 2×1\n",
        "    else:\n",
        "        uv = cp.zeros((2,1), dtype=cp.float32)\n",
        "    return uv\n",
        "\n"
      ],
      "metadata": {
        "id": "Uc64fSa0JyHH"
      },
      "execution_count": 2,
      "outputs": []
    },
    {
      "cell_type": "code",
      "source": [
        "!ls \"/content/drive/MyDrive/CS445/FinalProj/subset_of_frames\""
      ],
      "metadata": {
        "id": "4Sx7YBwlLJOA"
      },
      "execution_count": 5,
      "outputs": []
    },
    {
      "cell_type": "code",
      "source": [
        "folder = '/content/drive/MyDrive/CS445/FinalProj/'\n",
        "frame_files = sorted(glob.glob(folder + 'subset_of_frames/frame_*.png'))\n",
        "frames = []\n",
        "for f in frame_files:\n",
        "    img = cv2.imread(f)\n",
        "    if img is not None:\n",
        "        img_rgb = cv2.cvtColor(img, cv2.COLOR_BGR2RGB)\n",
        "        frames.append(img_rgb)\n",
        "\n",
        "if len(frames) == 0:\n",
        "    raise RuntimeError(\"No frames loaded — check your folder path or file naming.\")\n",
        "fps = 24\n",
        "window_w, window_h = 100, 100\n",
        "\n",
        "frames = cp.array(frames)\n",
        "T = len(frames)\n",
        "H, W = frames[0].shape[:2]\n",
        "nY = H // window_h\n",
        "nX = W // window_w\n",
        "\n",
        "flows = cp.zeros((T - 1, nY, nX, 2), dtype=cp.float32)\n",
        "\n",
        "for t in range(T - 1):\n",
        "    ft, ftplus1 = frames[t], frames[t + 1]\n",
        "    for y in range(nY):\n",
        "        y0 = y * window_h\n",
        "        for x in range(nX):\n",
        "            x0 = x * window_w\n",
        "            uv = process_window_lk(window_w, window_h, start_x=x0, start_y=y0,\n",
        "                                   frame_tplus1=ftplus1, frame_t=ft, fps=fps)\n",
        "            flows[t, y, x, 0] = uv[0, 0]\n",
        "            flows[t, y, x, 1] = uv[1, 0]\n",
        "\n",
        "T, patch_y, patch_x, uv_shape = flows.shape\n",
        "print(cp.asnumpy(flows).shape)"
      ],
      "metadata": {
        "colab": {
          "base_uri": "https://localhost:8080/"
        },
        "id": "kaRgyvl6Jz_2",
        "outputId": "b5bd6e38-b89d-458d-8127-c6c8957a4d22"
      },
      "execution_count": 3,
      "outputs": [
        {
          "output_type": "stream",
          "name": "stdout",
          "text": [
            "(7, 10, 19, 2)\n"
          ]
        }
      ]
    }
  ]
}